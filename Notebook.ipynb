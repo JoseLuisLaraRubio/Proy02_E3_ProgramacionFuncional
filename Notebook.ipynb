{
 "cells": [
  {
   "cell_type": "code",
   "execution_count": 8,
   "id": "ff23c5c5-efe8-43ce-8987-a68039e40169",
   "metadata": {},
   "outputs": [
    {
     "name": "stdout",
     "output_type": "stream",
     "text": [
      "6\n"
     ]
    }
   ],
   "source": [
    ";Ejercicio #1\n",
    "(define (combinatorio n k)\n",
    "  (cond\n",
    "    ((or (= k 0) (= k n)) 1)   ; Casos base: C(n, 0) = 1, C(n, n) = 14 \n",
    "    (else (+ (combinatorio (- n 1) (- k 1))\n",
    "             (combinatorio (- n 1) k)))))  ; Recursión para C(n, k) = C(n-1, k-1) + C(n-1, k)\n",
    "(displayln (combinatorio 4 2))"
   ]
  },
  {
   "cell_type": "code",
   "execution_count": 18,
   "id": "c6d1b305-d7c9-4f3e-b208-962d1601e73b",
   "metadata": {},
   "outputs": [
    {
     "name": "stdin",
     "output_type": "stream",
     "text": [
      " 5\n",
      " 5\n"
     ]
    },
    {
     "name": "stdout",
     "output_type": "stream",
     "text": [
      "MCD de 5 y 5: 5"
     ]
    }
   ],
   "source": [
    ";Ejercicio #2\n",
    "(define (MCD a b)\n",
    "  (cond\n",
    "    ((= a b) (abs a))\n",
    "    ((< a b) (MCD (abs a) (abs (- b a))))\n",
    "    (else (MCD (abs b) (abs (- a b))))\n",
    "  )\n",
    ")\n",
    "(define num1 (read))\n",
    "(define num2 (read))\n",
    "\n",
    "(display \"MCD de \")\n",
    "(display num1)\n",
    "(display \" y \")\n",
    "(display num2)\n",
    "(display \": \")\n",
    "\n",
    "(display (MCD num1 num2))"
   ]
  },
  {
   "cell_type": "code",
   "execution_count": 10,
   "id": "94c5d050-9743-43d2-b133-a0e1d2361d63",
   "metadata": {},
   "outputs": [
    {
     "name": "stdout",
     "output_type": "stream",
     "text": [
      "(5 7)\n",
      "()\n"
     ]
    }
   ],
   "source": [
    ";Ejercicio #3\n",
    "(define (esPrimo n)\n",
    "  (define (ciclo divisor)\n",
    "    (cond ((<= divisor 1) #t)\n",
    "          ((= (remainder n divisor) 0) #f)\n",
    "          (else (ciclo (- divisor 1)))))\n",
    "  (ciclo (- n 1)))\n",
    "\n",
    "(define (primos a b)\n",
    "  (define (process a b)\n",
    "    (cond ((and (<= a b) (integer? a) (integer? b))\n",
    "           (if (esPrimo a)\n",
    "               (cons a (process (+ a 1) b))\n",
    "               (process (+ a 1) b)))\n",
    "          (else '())))\n",
    "  (if (<= (+ a 1) b)(process (+ a 1) b) '()))\n",
    "\n",
    "(displayln (primos 3 10))\n",
    "(displayln (primos 10 10))"
   ]
  },
  {
   "cell_type": "code",
   "execution_count": 16,
   "id": "b3e9b7a4-43cb-465c-80b1-84a8a495b659",
   "metadata": {},
   "outputs": [
    {
     "name": "stdout",
     "output_type": "stream",
     "text": [
      "#t\n",
      "#f\n"
     ]
    }
   ],
   "source": [
    ";Ejercicio #4\n",
    "(define (busca valor lista)\n",
    "  (if(null? lista)\n",
    "    #f\n",
    "    (if (= (car lista) valor)\n",
    "      #t\n",
    "      (busca valor (cdr lista)))))\n",
    "      \n",
    "(displayln (busca 5 '(1 4 2 5)))\n",
    "(displayln (busca 5 '(1 2 4 6)))"
   ]
  },
  {
   "cell_type": "code",
   "execution_count": 6,
   "id": "6028896e-3734-4249-ad8c-2e40916467c3",
   "metadata": {},
   "outputs": [
    {
     "name": "stdout",
     "output_type": "stream",
     "text": [
      "(6 4 2 1)\n"
     ]
    }
   ],
   "source": [
    ";Ejercicio #5\n",
    "(define (invertir lista)\n",
    "  (if (null? lista)\n",
    "    '()\n",
    "    (append (invertir (cdr lista)) (list (car lista)))))\n",
    "\n",
    "(displayln (invertir  '(1 2 4 6)))"
   ]
  },
  {
   "cell_type": "code",
   "execution_count": null,
   "id": "28600928-0ed1-41b7-bdb0-f289d582b63e",
   "metadata": {},
   "outputs": [],
   "source": [
    ";Ejercicio 6\n",
    "(define (elimina elem lst)\n",
    "  (cond\n",
    "    ((null? lst) '())                          ; Caso base: si la lista está vacía, devuelve una lista vacía\n",
    "    ((equal? (car lst) elem) (elimina elem (cdr lst)))  ; Si el primer elemento es igual al elemento a eliminar, lo omitimos y continuamos con el resto de la lista\n",
    "    (else (cons (car lst) (elimina elem (cdr lst)))))) ; Si el primer elemento no es igual al elemento a eliminar, lo mantenemos y continuamos con el resto de la lista\n",
    "\n",
    "(displayln (elimina 4 '(2 4 5)))"
   ]
  },
  {
   "cell_type": "code",
   "execution_count": 5,
   "id": "3c047fa4-ec0b-4d13-a542-d41e356fa84e",
   "metadata": {},
   "outputs": [
    {
     "name": "stdout",
     "output_type": "stream",
     "text": [
      "#t\n",
      "#f\n"
     ]
    }
   ],
   "source": [
    ";Ejercicio #7\n",
    "(define (palindromo n)\n",
    "  (define (es_palindromo str)\n",
    "    (cond\n",
    "      ((<= (string-length str) 1) #t) ; Caso base: cadena de longitud 0 o 1 es siempre palíndromo\n",
    "      ((char=? (string-ref str 0) (string-ref str (- (string-length str) 1)))\n",
    "       (es_palindromo (substring str 1 (- (string-length str) 1)))) ; Si los extremos son iguales, comprobamos el interior recursivamente\n",
    "      (else #f))) ; Si los extremos no son iguales, no es palíndromo\n",
    "\n",
    "  (es_palindromo (number->string n)))\n",
    "\n",
    "(displayln (palindromo 31213))\n",
    "(displayln (palindromo 312143))\n"
   ]
  },
  {
   "cell_type": "code",
   "execution_count": 4,
   "id": "312d156d-48ce-4e30-a4ce-e7f8c3ec4b3c",
   "metadata": {},
   "outputs": [
    {
     "name": "stdout",
     "output_type": "stream",
     "text": [
      "16\n"
     ]
    }
   ],
   "source": [
    ";Ejercicio #8\n",
    "(define (SumaDigitos n)\n",
    "  (define (sumaDigitosAux str)\n",
    "    (cond\n",
    "      ((string=? str \"\") 0) ; Caso base: cadena vacía\n",
    "      (else (+ (string->number (substring str 0 1))\n",
    "               (sumaDigitosAux (substring str 1))))))\n",
    "  (sumaDigitosAux (number->string n)))\n",
    "\n",
    "(displayln (SumaDigitos 457))"
   ]
  },
  {
   "cell_type": "code",
   "execution_count": 3,
   "id": "f00a3a61-a03c-4340-8d95-be4092341b09",
   "metadata": {},
   "outputs": [
    {
     "name": "stdout",
     "output_type": "stream",
     "text": [
      "Binario de 123: (1 1 1 1 0 1 1)"
     ]
    }
   ],
   "source": [
    ";Ejercicio #9\n",
    "(define (cociente n m)\n",
    "  (if (< n m)\n",
    "      0\n",
    "      (+ 1 (cociente (- n m) m))))\n",
    "\n",
    "(define (mod n m)\n",
    "  (- n (* m (cociente n m))))\n",
    "\n",
    "(define (Binario n)\n",
    "  (cond\n",
    "    ((= n 0) '())\n",
    "    (else (append (Binario (cociente n 2)) (list (mod n 2)))))\n",
    "  )\n",
    "\n",
    "(display \"Binario de 123: \")\n",
    "(display (Binario 123))"
   ]
  },
  {
   "cell_type": "code",
   "execution_count": 2,
   "id": "ad057ee2-45c5-495c-9cf0-86bc4bc33288",
   "metadata": {},
   "outputs": [
    {
     "name": "stdout",
     "output_type": "stream",
     "text": [
      "\n",
      "π calculado con la serie de Leibnitz: 3.1416926435905346"
     ]
    }
   ],
   "source": [
    ";Ejercicio #10\n",
    "(define (pow num pot)\n",
    "  (if (= pot 1) num\n",
    "      (* num (pow num (- pot 1)))\n",
    "      )\n",
    ")\n",
    "\n",
    "(define (Leibnitz n)\n",
    "  (cond\n",
    "    ((= n 0) 1.00000)\n",
    "    (else (+ (/ (pow -1 n) (+ (* 2 n) 1.00000)) (Leibnitz (- n 1))))\n",
    "    )\n",
    ")\n",
    "\n",
    "(define (PI n)\n",
    "  (* (Leibnitz n) 4)\n",
    "  )\n",
    "\n",
    "(display \"\\nπ calculado con la serie de Leibnitz: \")\n",
    "(display (PI 10000))"
   ]
  },
  {
   "cell_type": "code",
   "execution_count": null,
   "id": "58379def-b152-4e42-8caa-1277f098c1f2",
   "metadata": {},
   "outputs": [],
   "source": []
  }
 ],
 "metadata": {
  "kernelspec": {
   "display_name": "Racket",
   "language": "racket",
   "name": "racket"
  },
  "language_info": {
   "codemirror_mode": "scheme",
   "file_extension": ".rkt",
   "mimetype": "text/x-racket",
   "name": "Racket",
   "pygments_lexer": "racket",
   "version": "8.12"
  }
 },
 "nbformat": 4,
 "nbformat_minor": 5
}
