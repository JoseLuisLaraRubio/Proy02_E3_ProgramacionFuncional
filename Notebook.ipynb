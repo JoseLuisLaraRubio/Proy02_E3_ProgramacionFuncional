{
 "cells": [
  {
   "cell_type": "markdown",
   "id": "14dec604-dd34-4afc-b66b-3af826d2a7f3",
   "metadata": {},
   "source": [
    "## Ejercicio 1\n",
    "El problema consiste en calcular el número de combinaciones de \"n\" elementos tomados de \"k\"\n",
    "\n",
    "Las entradas son las siguientes (ambas son números enteros):\n",
    "- n: Es el número total de elementos en el conjunto del cual se están seleccionando combinaciones.\n",
    "- k: Número de elementos que se están eligiendo para formar cada combinaciones.\n",
    "\n",
    "La salida será un número entero que como se mencionó anteriormente, son el número de combinaciones.\n"
   ]
  },
  {
   "cell_type": "code",
   "execution_count": 14,
   "id": "65aa86b5-d030-4f97-8f75-d25bc9c85dda",
   "metadata": {},
   "outputs": [
    {
     "name": "stdout",
     "output_type": "stream",
     "text": [
      "Insertar valor del n: "
     ]
    },
    {
     "name": "stdin",
     "output_type": "stream",
     "text": [
      " 20\n"
     ]
    },
    {
     "name": "stdout",
     "output_type": "stream",
     "text": [
      "Insertar valor del k: "
     ]
    },
    {
     "name": "stdin",
     "output_type": "stream",
     "text": [
      " 4\n"
     ]
    },
    {
     "name": "stdout",
     "output_type": "stream",
     "text": [
      "Combinatorio de 20 y 4: 4845\n"
     ]
    }
   ],
   "source": [
    "(define (combinatorio n k)\n",
    "  (cond\n",
    "   ((> k n) \"Entrada inválida\")\n",
    "    ((or (= k 0) (= k n)) 1)   ; Casos base: C(n, 0) = 1, C(n, n) = 14 \n",
    "    (else (+ (combinatorio (- n 1) (- k 1))\n",
    "             (combinatorio (- n 1) k)))))  ; Recursión para C(n, k) = C(n-1, k-1) + C(n-1, k)\n",
    "\n",
    "(display \"Insertar valor del n: \")\n",
    "(define n (read))\n",
    "(display \"Insertar valor del k: \")\n",
    "(define k (read))\n",
    "\n",
    "(display \"Combinatorio de \")\n",
    "(display n)\n",
    "(display \" y \")\n",
    "(display k)\n",
    "(display \": \")\n",
    "\n",
    "(displayln(combinatorio n k))"
   ]
  },
  {
   "cell_type": "markdown",
   "id": "26f4ccf8-4ae1-4ca6-a988-089322968c00",
   "metadata": {},
   "source": [
    "## Ejercicio 2\n",
    "El problema consiste en calcular el MCD entre 2 números negativos\n",
    "\n",
    "Las entradas son las siguientes (ambas son números enteros negativos):\n",
    "- a: primer numero.\n",
    "- b: segundo numero.\n",
    "\n",
    "La salida será el MCD de los 2 números."
   ]
  },
  {
   "cell_type": "code",
   "execution_count": 12,
   "id": "3a6f8b3e-f024-4527-9bd3-598140c9e895",
   "metadata": {},
   "outputs": [
    {
     "name": "stdout",
     "output_type": "stream",
     "text": [
      "Insertar valor del primer numero negativo: "
     ]
    },
    {
     "name": "stdin",
     "output_type": "stream",
     "text": [
      " -49\n"
     ]
    },
    {
     "name": "stdout",
     "output_type": "stream",
     "text": [
      "Insertar valor del segundo numero negativo: "
     ]
    },
    {
     "name": "stdin",
     "output_type": "stream",
     "text": [
      " -105\n"
     ]
    },
    {
     "name": "stdout",
     "output_type": "stream",
     "text": [
      "MCD de -49 y -105: 7"
     ]
    }
   ],
   "source": [
    "(define (MCD a b)                   \n",
    "  (cond                              \n",
    "    ((or (= b 0) (= a 0)) \"Entrada inválida\") ; Si alguno de los números es cero, devuelve \"Entrada inválida\".\n",
    "    ((= a b) (abs a))                ; Si a y b son iguales, devuelve el valor absoluto de a (o b, ya que son iguales).\n",
    "    ((< a b) (MCD (abs a) (abs (- b a)))) ; Si a es menor que b, llama recursivamente a MCD con el valor absoluto de a y la diferencia entre b y a.\n",
    "    (else (MCD (abs b) (abs (- a b))))     ; De otro modo, llama recursivamente a MCD con el valor absoluto de b y la diferencia entre a y b.\n",
    "  )\n",
    ")\n",
    "\n",
    "\n",
    "(display \"Insertar valor del primer numero negativo: \")\n",
    "(define num1 (read))\n",
    "(display \"Insertar valor del segundo numero negativo: \")\n",
    "(define num2 (read))\n",
    "\n",
    "(display \"MCD de \")\n",
    "(display num1)\n",
    "(display \" y \")\n",
    "(display num2)\n",
    "(display \": \")\n",
    "\n",
    "(display (MCD num1 num2))"
   ]
  },
  {
   "cell_type": "markdown",
   "id": "49db37c4-ef01-4697-8684-b10865456d7d",
   "metadata": {},
   "source": [
    "## Ejercicio 3\n",
    "El problema consiste en calcular los numeros primos que se encuentran dentro de un rango.\n",
    "\n",
    "Las entradas son las siguientes (ambas son números enteros):\n",
    "- a: limite menor del rango.\n",
    "- b: limite mayor del rango.\n",
    "\n",
    "La salida será una lista de todos los numeros primos mayores que a y menores que b."
   ]
  },
  {
   "cell_type": "code",
   "execution_count": 7,
   "id": "94c5d050-9743-43d2-b133-a0e1d2361d63",
   "metadata": {},
   "outputs": [
    {
     "name": "stdout",
     "output_type": "stream",
     "text": [
      "Insertar valor del primer numero: "
     ]
    },
    {
     "name": "stdin",
     "output_type": "stream",
     "text": [
      " 1\n"
     ]
    },
    {
     "name": "stdout",
     "output_type": "stream",
     "text": [
      "Insertar valor del segundo numero: "
     ]
    },
    {
     "name": "stdin",
     "output_type": "stream",
     "text": [
      " 200\n"
     ]
    },
    {
     "name": "stdout",
     "output_type": "stream",
     "text": [
      "Primos entre 1 y 200: (2 3 5 7 11 13 17 19 23 29 31 37 41 43 47 53 59 61 67 71 73 79 83 89 97 101 103 107 109 113 127 131 137 139 149 151 157 163 167 173 179 181 191 193 197 199)\n"
     ]
    }
   ],
   "source": [
    "(define (esPrimo n)\n",
    "  (define (ciclo divisor)\n",
    "    (cond ((<= divisor 1) #t)\n",
    "          ((= (remainder n divisor) 0) #f)\n",
    "          (else (ciclo (- divisor 1)))))\n",
    "  (ciclo (- n 1)))\n",
    "\n",
    "(define (primos a b)\n",
    "  (define (process a b)\n",
    "    (cond ((and (<= a b) (integer? a) (integer? b))\n",
    "           (if (esPrimo a)\n",
    "               (cons a (process (+ a 1) b))\n",
    "               (process (+ a 1) b)))\n",
    "          (else '())))\n",
    "  (if (<= (+ a 1) b)(process (+ a 1) b) '()))\n",
    "\n",
    "(display \"Insertar valor del primer numero: \")\n",
    "(define num1 (read))\n",
    "(display \"Insertar valor del segundo numero: \")\n",
    "(define num2 (read))\n",
    "\n",
    "(display \"Primos entre \")\n",
    "(display num1)\n",
    "(display \" y \")\n",
    "(display num2)\n",
    "(display \": \")\n",
    "\n",
    "(displayln (primos num1 num2))"
   ]
  },
  {
   "cell_type": "markdown",
   "id": "9560b032-aaf9-4e90-a87a-c8727c86c357",
   "metadata": {},
   "source": [
    "## Ejercicio 4\n",
    "El problema consiste en buscar un numero dentro de una lista.\n",
    "\n",
    "Las entradas son las siguientes (ambas son números enteros negativos):\n",
    "- valor: numero a buscar.\n",
    "- lista: lista de numeros.\n",
    "\n",
    "La salida será un valor booleano que representa si el numero que se buscó se encuentra dentro de la lista."
   ]
  },
  {
   "cell_type": "code",
   "execution_count": 4,
   "id": "b3e9b7a4-43cb-465c-80b1-84a8a495b659",
   "metadata": {},
   "outputs": [
    {
     "name": "stdout",
     "output_type": "stream",
     "text": [
      "Insertar la lista como una lista entre paréntesis: "
     ]
    },
    {
     "name": "stdin",
     "output_type": "stream",
     "text": [
      " (4 2 56)\n"
     ]
    },
    {
     "name": "stdout",
     "output_type": "stream",
     "text": [
      "Insertar valor del numero a buscar: "
     ]
    },
    {
     "name": "stdin",
     "output_type": "stream",
     "text": [
      " 3\n"
     ]
    },
    {
     "name": "stdout",
     "output_type": "stream",
     "text": [
      "#f\n"
     ]
    }
   ],
   "source": [
    "(define (busca valor lista)         \n",
    "  (if (null? lista)                   ; Si la lista es vacía devuelve falso\n",
    "      #f                              \n",
    "      (if (= (car lista) valor)       ; Si el primer elemento de la lista es igual al valor buscado devuelve verdadero\n",
    "          #t                          \n",
    "          (busca valor (cdr lista))))) ; Si no, llama recursivamente a busca con el valor y la lista excepto el promer elemento\n",
    "\n",
    "(display \"Insertar la lista como una lista entre paréntesis: \")\n",
    "(define lista (read))\n",
    "(display \"Insertar valor del numero a buscar: \")\n",
    "(define num (read))\n",
    "\n",
    "\n",
    "(displayln (busca num lista))\n"
   ]
  },
  {
   "cell_type": "markdown",
   "id": "eca517dd-9540-46a1-b2ab-f893829ca273",
   "metadata": {},
   "source": [
    "## Ejercicio 5\n",
    "El problema consiste en buscarinvertir el orden de los datos almacenados en una lista.\n",
    "\n",
    "Solamente recibe como entrada la lista a invertir.\n",
    "\n",
    "La salida será la lista invertida."
   ]
  },
  {
   "cell_type": "code",
   "execution_count": 15,
   "id": "6028896e-3734-4249-ad8c-2e40916467c3",
   "metadata": {},
   "outputs": [
    {
     "name": "stdout",
     "output_type": "stream",
     "text": [
      "Insertar la lista como una lista entre paréntesis: "
     ]
    },
    {
     "name": "stdin",
     "output_type": "stream",
     "text": [
      " (1 2 3 4)\n"
     ]
    },
    {
     "name": "stdout",
     "output_type": "stream",
     "text": [
      "(4 3 2 1)\n"
     ]
    }
   ],
   "source": [
    "(define (invertir lista)              \n",
    "  (if (null? lista)                   ; Si la lista es vacía devuelve una lista vacía ()\n",
    "      '()                             \n",
    "      (append (invertir (cdr lista))(list (car lista)))))  ; De otro modo, llama recursivamente a invertir con la lista quitandole el primer elemento\n",
    "                                                            ;la lista resultante con una lista que contiene el primer elemento de la lista original al final\n",
    "\n",
    "(display \"Insertar la lista como una lista entre paréntesis: \")\n",
    "(define lista (read))\n",
    "\n",
    "(displayln (invertir  lista))"
   ]
  },
  {
   "cell_type": "markdown",
   "id": "1278e6e5-9126-4cc3-a658-3e6cbf21004c",
   "metadata": {},
   "source": [
    "## Ejercicio 6\n",
    "El problema consiste en que dada una lista de n elementos de números enteros, se escriba un número y se elimine ese número de la lista.\n",
    "\n",
    "Las entradas son las siguientes:\n",
    "- Una lista de números enteros (se escribe entre paréntesis). Ejemplo: (2 3 4). \n",
    "- Un número entero que es el número para eliminar de la lista\n",
    "\n",
    "La salida será una nueva lista pero sin el elemento.\n"
   ]
  },
  {
   "cell_type": "code",
   "execution_count": 6,
   "id": "28600928-0ed1-41b7-bdb0-f289d582b63e",
   "metadata": {},
   "outputs": [
    {
     "name": "stdout",
     "output_type": "stream",
     "text": [
      "Ingrese la lista como una lista entre paréntesis: "
     ]
    },
    {
     "name": "stdin",
     "output_type": "stream",
     "text": [
      " (1 2 3)\n"
     ]
    },
    {
     "name": "stdout",
     "output_type": "stream",
     "text": [
      "Ingrese el número a eliminar: "
     ]
    },
    {
     "name": "stdin",
     "output_type": "stream",
     "text": [
      " 3\n"
     ]
    },
    {
     "name": "stdout",
     "output_type": "stream",
     "text": [
      "Lista después de eliminar el número: (1 2)"
     ]
    }
   ],
   "source": [
    "(define (elimina elemento lista)\n",
    "  (cond\n",
    "    ((null? lista) '()) ; Caso base: si la lista está vacía, devuelve una lista vacía.\n",
    "    ((= elemento (car lista)) (elimina elemento (cdr lista))) ; Si el primer elemento de la lista es igual al elemento a eliminar, llama recursivamente a la función con la cola de la lista.\n",
    "    (else (cons (car lista) (elimina elemento (cdr lista)))))) ; Si el primer elemento de la lista no es igual al elemento a eliminar, conserva el primer elemento y llama recursivamente a la función con la cola de la lista.\n",
    "\n",
    "(display \"Ingrese la lista como una lista entre paréntesis: \")\n",
    "(define lista (read))\n",
    "(display \"Ingrese el número a eliminar: \")\n",
    "(define numero (read))\n",
    "(display \"Lista después de eliminar el número: \")\n",
    "(display (elimina numero lista))\n"
   ]
  },
  {
   "cell_type": "markdown",
   "id": "fde4623e-c10f-4e3c-a04c-fbf1ae0cc5e9",
   "metadata": {},
   "source": [
    "## Ejercicio 7\n",
    "El problema consiste en determinar si dado un número, este palíndromo o no, que es aquel que se lee exactamente igual de izquierda a derecha que de derecha a izquierda. \n",
    "\n",
    "Solo tiene una entrada que es un número entero.\n",
    "\n",
    "La salida será #t (si el número es palíndromo) y #f si no lo es.\n"
   ]
  },
  {
   "cell_type": "code",
   "execution_count": 4,
   "id": "3c047fa4-ec0b-4d13-a542-d41e356fa84e",
   "metadata": {},
   "outputs": [
    {
     "name": "stdout",
     "output_type": "stream",
     "text": [
      "Inserte un numero entero positivo: \n"
     ]
    },
    {
     "name": "stdin",
     "output_type": "stream",
     "text": [
      " 123454321\n"
     ]
    },
    {
     "name": "stdout",
     "output_type": "stream",
     "text": [
      "#t\n"
     ]
    }
   ],
   "source": [
    "(define (palindromo n)\n",
    "  (define (es_palindromo str)\n",
    "    (cond\n",
    "      ((<= (string-length str) 1) #t) ; Caso base: cadena de longitud 0 o 1 es siempre palíndromo\n",
    "      ((char=? (string-ref str 0) (string-ref str (- (string-length str) 1)))\n",
    "       (es_palindromo (substring str 1 (- (string-length str) 1)))) ; Si los extremos son iguales, comprobamos el interior recursivamente\n",
    "      (else #f))) ; Si los extremos no son iguales, no es palíndromo\n",
    "\n",
    "  (es_palindromo (number->string n)))\n",
    "\n",
    "(displayln \"Inserte un numero entero positivo: \")\n",
    "(define num (read))\n",
    "\n",
    "(displayln (palindromo num))"
   ]
  },
  {
   "cell_type": "markdown",
   "id": "2d485617-9f73-42aa-83b4-78c96adce0bc",
   "metadata": {},
   "source": [
    "## Ejercicio 8\n",
    "El problema consiste en recibir un número entero y obtener la suma de sus dígitos.\n",
    "\n",
    "Solo tiene una entrada que es un número entero.\n",
    "\n",
    "La salida será el resultado de la suma."
   ]
  },
  {
   "cell_type": "code",
   "execution_count": 16,
   "id": "312d156d-48ce-4e30-a4ce-e7f8c3ec4b3c",
   "metadata": {},
   "outputs": [
    {
     "name": "stdout",
     "output_type": "stream",
     "text": [
      "Inserte un numero entero positivo: \n"
     ]
    },
    {
     "name": "stdin",
     "output_type": "stream",
     "text": [
      " 34\n"
     ]
    },
    {
     "name": "stdout",
     "output_type": "stream",
     "text": [
      "Suma de los digitos: 7"
     ]
    }
   ],
   "source": [
    "(define (SumaDigitos n)              \n",
    "  (define (sumaDigitosAux str)       \n",
    "    (cond\n",
    "      ((string=? str \"\") 0)         ; Si la cadena es vacia devuelve 0\n",
    "      (else (+ (string->number (substring str 0 1)) ; Convierte el primer carácter de la cadena en un número y lo suma a la llamada recursiva de \n",
    "               (sumaDigitosAux (substring str 1)))))) ; sumaDigitosAux con el resto de la cadena.\n",
    "  (sumaDigitosAux (number->string n))) ; Convierte el número dado a una cadena y llama a sumaDigitosAux para calcular la suma de sus dígitos.\n",
    "\n",
    "(displayln \"Inserte un numero entero positivo: \")\n",
    "(define num (read))\n",
    "\n",
    "(display \"Suma de los digitos: \")\n",
    "(display (SumaDigitos num))"
   ]
  },
  {
   "cell_type": "markdown",
   "id": "9f9e51f1-7e46-42c0-95e0-60c19397ef77",
   "metadata": {},
   "source": [
    "## Ejercicio 9\n",
    "El problema consiste en recibir un numero entero y convertirlo en su versión en binario.\n",
    "\n",
    "Solo tiene una entrada que es un número entero.\n",
    "\n",
    "La salida será el número ingresado representado en notación binaria."
   ]
  },
  {
   "cell_type": "code",
   "execution_count": 9,
   "id": "f00a3a61-a03c-4340-8d95-be4092341b09",
   "metadata": {},
   "outputs": [
    {
     "name": "stdout",
     "output_type": "stream",
     "text": [
      "Ingrese el número en decimal: "
     ]
    },
    {
     "name": "stdin",
     "output_type": "stream",
     "text": [
      " 10\n"
     ]
    },
    {
     "name": "stdout",
     "output_type": "stream",
     "text": [
      "Binario de 10: \n",
      "(1 0 1 0)"
     ]
    }
   ],
   "source": [
    "(define (cociente n m)               \n",
    "  (if (< n m)                        ; Si n es menor que m devuelve 0\n",
    "      0                              \n",
    "      (+ 1 (cociente (- n m) m))))  ; Devuelve 1 más el cociente de (n-m) dividido por m\n",
    "\n",
    "(define (mod n m)                    \n",
    "  (- n (* m (cociente n m))))       ; Devuelve el residuo de n dividido por m\n",
    "\n",
    "(define (Binario n)                  \n",
    "  (cond                             \n",
    "    ((= n 0) '())                    ; - Si n es igual a 0, devuelve una lista vacía (),\n",
    "    (else (append (Binario (cociente n 2)) (list (mod n 2))))))  ; de lo contrario, llama a la función Binario con (cociente n 2),\n",
    "                                                                  ; concatena el resultado con una lista que contiene el residuo de n dividido por 2.\n",
    "\n",
    "\n",
    "(display \"Ingrese el número en decimal: \")\n",
    "(define num (read))\n",
    "\n",
    "(display \"Binario de \")\n",
    "(display num)\n",
    "(display \": \\n\")\n",
    "\n",
    "(display (Binario num))"
   ]
  },
  {
   "cell_type": "markdown",
   "id": "2908cdd8-cca4-4f39-b2fc-0f76a239aa00",
   "metadata": {},
   "source": [
    "## Ejercicio 10\n",
    "El problema consiste en estimar el valor de PI utilizando la serie de Leibntz.\n",
    "\n",
    "Recibe una entrada que es un número entero representando el numero de iteraciones que se realizará.\n",
    "\n",
    "La salida es la estimación del valor de PI."
   ]
  },
  {
   "cell_type": "code",
   "execution_count": 4,
   "id": "ad057ee2-45c5-495c-9cf0-86bc4bc33288",
   "metadata": {},
   "outputs": [
    {
     "name": "stdout",
     "output_type": "stream",
     "text": [
      "Ingrese el número de iteraciones: "
     ]
    },
    {
     "name": "stdin",
     "output_type": "stream",
     "text": [
      " 10000\n"
     ]
    },
    {
     "name": "stdout",
     "output_type": "stream",
     "text": [
      "\n",
      "π calculado con la serie de Leibnitz: 3.1416926435905346"
     ]
    }
   ],
   "source": [
    "(define (pow num pot)\n",
    "  (if (= pot 1) num\n",
    "      (* num (pow num (- pot 1)))\n",
    "      )\n",
    ")\n",
    "\n",
    "(define (Leibnitz n)\n",
    "  (cond\n",
    "    ((= n 0) 1.00000) ;Si n = 0 devuelve 1\n",
    "    (else (+ (/ (pow -1 n) (+ (* 2 n) 1.00000)) (Leibnitz (- n 1)))) ; De otro modo, llama recursivamente a la funcion Leibnitz restandole 1 al valor de n \n",
    "                                                                     ; y suma a esto el resultado de ((-1)^n) / (2n + 1)\n",
    "    )\n",
    ")\n",
    "\n",
    "(define (PI n)\n",
    "  (* (Leibnitz n) 4)\n",
    "  )\n",
    "\n",
    "(display \"Ingrese el número de iteraciones: \")\n",
    "(define num (read))\n",
    "\n",
    "(display \"\\nπ calculado con la serie de Leibnitz: \")\n",
    "(display (PI num))"
   ]
  },
  {
   "cell_type": "code",
   "execution_count": null,
   "id": "58379def-b152-4e42-8caa-1277f098c1f2",
   "metadata": {},
   "outputs": [],
   "source": []
  }
 ],
 "metadata": {
  "kernelspec": {
   "display_name": "Racket",
   "language": "racket",
   "name": "racket"
  },
  "language_info": {
   "codemirror_mode": "scheme",
   "file_extension": ".rkt",
   "mimetype": "text/x-racket",
   "name": "Racket",
   "pygments_lexer": "racket",
   "version": "8.12"
  }
 },
 "nbformat": 4,
 "nbformat_minor": 5
}
